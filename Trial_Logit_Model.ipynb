{
 "cells": [
  {
   "cell_type": "markdown",
   "metadata": {},
   "source": [
    "# Multinomial Logit Model"
   ]
  },
  {
   "cell_type": "markdown",
   "metadata": {},
   "source": [
    "### Importing Packages"
   ]
  },
  {
   "cell_type": "code",
   "execution_count": 35,
   "metadata": {},
   "outputs": [],
   "source": [
    "#Importing Packages\n",
    "import pandas as pd\n",
    "import numpy as np\n",
    "from sklearn import preprocessing\n",
    "import matplotlib.pyplot as plt \n",
    "from sklearn.linear_model import LogisticRegression\n",
    "from sklearn.model_selection import train_test_split\n",
    "import seaborn as sns"
   ]
  },
  {
   "cell_type": "markdown",
   "metadata": {},
   "source": [
    "### Importing Dataset"
   ]
  },
  {
   "cell_type": "code",
   "execution_count": 36,
   "metadata": {},
   "outputs": [
    {
     "data": {
      "text/html": [
       "<div>\n",
       "<style scoped>\n",
       "    .dataframe tbody tr th:only-of-type {\n",
       "        vertical-align: middle;\n",
       "    }\n",
       "\n",
       "    .dataframe tbody tr th {\n",
       "        vertical-align: top;\n",
       "    }\n",
       "\n",
       "    .dataframe thead th {\n",
       "        text-align: right;\n",
       "    }\n",
       "</style>\n",
       "<table border=\"1\" class=\"dataframe\">\n",
       "  <thead>\n",
       "    <tr style=\"text-align: right;\">\n",
       "      <th></th>\n",
       "      <th>police_station</th>\n",
       "      <th>accident_date</th>\n",
       "      <th>accident_weekday</th>\n",
       "      <th>accident_time</th>\n",
       "      <th>lattitude</th>\n",
       "      <th>longitude</th>\n",
       "      <th>accused_vehicle</th>\n",
       "      <th>victim_vehicle</th>\n",
       "      <th>victim_alcohol_status</th>\n",
       "      <th>accused_alcohol_status</th>\n",
       "      <th>death_count</th>\n",
       "      <th>injured_count</th>\n",
       "      <th>month</th>\n",
       "      <th>hour</th>\n",
       "      <th>severity</th>\n",
       "    </tr>\n",
       "  </thead>\n",
       "  <tbody>\n",
       "    <tr>\n",
       "      <th>0</th>\n",
       "      <td>KPHB Colony</td>\n",
       "      <td>1/1/2019</td>\n",
       "      <td>Tuesday</td>\n",
       "      <td>0:00:00</td>\n",
       "      <td>17.47278</td>\n",
       "      <td>78.38764</td>\n",
       "      <td>bike</td>\n",
       "      <td>object</td>\n",
       "      <td>No</td>\n",
       "      <td>No</td>\n",
       "      <td>1</td>\n",
       "      <td>0</td>\n",
       "      <td>1</td>\n",
       "      <td>0</td>\n",
       "      <td>Fatal Injuries</td>\n",
       "    </tr>\n",
       "    <tr>\n",
       "      <th>1</th>\n",
       "      <td>Pet Basheerabad</td>\n",
       "      <td>2/1/2019</td>\n",
       "      <td>Wednesday</td>\n",
       "      <td>21:15:00</td>\n",
       "      <td>17.54128</td>\n",
       "      <td>78.49104</td>\n",
       "      <td>Unknown</td>\n",
       "      <td>Unknown</td>\n",
       "      <td>No</td>\n",
       "      <td>No</td>\n",
       "      <td>0</td>\n",
       "      <td>1</td>\n",
       "      <td>1</td>\n",
       "      <td>21</td>\n",
       "      <td>Grievous Injuries</td>\n",
       "    </tr>\n",
       "  </tbody>\n",
       "</table>\n",
       "</div>"
      ],
      "text/plain": [
       "    police_station accident_date accident_weekday accident_time  lattitude  \\\n",
       "0      KPHB Colony      1/1/2019          Tuesday       0:00:00   17.47278   \n",
       "1  Pet Basheerabad      2/1/2019        Wednesday      21:15:00   17.54128   \n",
       "\n",
       "   longitude accused_vehicle victim_vehicle victim_alcohol_status  \\\n",
       "0   78.38764            bike         object                    No   \n",
       "1   78.49104         Unknown        Unknown                    No   \n",
       "\n",
       "  accused_alcohol_status  death_count  injured_count  month  hour  \\\n",
       "0                     No            1              0      1     0   \n",
       "1                     No            0              1      1    21   \n",
       "\n",
       "            severity  \n",
       "0     Fatal Injuries  \n",
       "1  Grievous Injuries  "
      ]
     },
     "execution_count": 36,
     "metadata": {},
     "output_type": "execute_result"
    }
   ],
   "source": [
    "#importing dataset after ETL and EDA.\n",
    "df = pd.read_csv('after_cleaning.csv')\n",
    "df.head(2)"
   ]
  },
  {
   "cell_type": "markdown",
   "metadata": {},
   "source": [
    "### Data Preprocessing"
   ]
  },
  {
   "cell_type": "code",
   "execution_count": 37,
   "metadata": {},
   "outputs": [
    {
     "data": {
      "text/html": [
       "<div>\n",
       "<style scoped>\n",
       "    .dataframe tbody tr th:only-of-type {\n",
       "        vertical-align: middle;\n",
       "    }\n",
       "\n",
       "    .dataframe tbody tr th {\n",
       "        vertical-align: top;\n",
       "    }\n",
       "\n",
       "    .dataframe thead th {\n",
       "        text-align: right;\n",
       "    }\n",
       "</style>\n",
       "<table border=\"1\" class=\"dataframe\">\n",
       "  <thead>\n",
       "    <tr style=\"text-align: right;\">\n",
       "      <th></th>\n",
       "      <th>accident_weekday</th>\n",
       "      <th>accused_vehicle</th>\n",
       "      <th>victim_vehicle</th>\n",
       "      <th>death_count</th>\n",
       "      <th>injured_count</th>\n",
       "      <th>month</th>\n",
       "      <th>severity</th>\n",
       "    </tr>\n",
       "  </thead>\n",
       "  <tbody>\n",
       "    <tr>\n",
       "      <th>0</th>\n",
       "      <td>Tuesday</td>\n",
       "      <td>bike</td>\n",
       "      <td>object</td>\n",
       "      <td>1</td>\n",
       "      <td>0</td>\n",
       "      <td>1</td>\n",
       "      <td>Fatal Injuries</td>\n",
       "    </tr>\n",
       "    <tr>\n",
       "      <th>1</th>\n",
       "      <td>Wednesday</td>\n",
       "      <td>Unknown</td>\n",
       "      <td>Unknown</td>\n",
       "      <td>0</td>\n",
       "      <td>1</td>\n",
       "      <td>1</td>\n",
       "      <td>Grievous Injuries</td>\n",
       "    </tr>\n",
       "  </tbody>\n",
       "</table>\n",
       "</div>"
      ],
      "text/plain": [
       "  accident_weekday accused_vehicle victim_vehicle  death_count  injured_count  \\\n",
       "0          Tuesday            bike         object            1              0   \n",
       "1        Wednesday         Unknown        Unknown            0              1   \n",
       "\n",
       "   month           severity  \n",
       "0      1     Fatal Injuries  \n",
       "1      1  Grievous Injuries  "
      ]
     },
     "execution_count": 37,
     "metadata": {},
     "output_type": "execute_result"
    }
   ],
   "source": [
    "#Dropping the useless attributes from dataframe and converting the alcohol status to bool type.\n",
    "df = df.drop(df[['police_station','accident_date','accident_time','hour','lattitude','longitude','victim_alcohol_status','accused_alcohol_status']],axis=1)\n",
    "#df['victim_alcohol_status'] = df['victim_alcohol_status'] == \"Yes\"\n",
    "#df['accused_alcohol_status'] = df['accused_alcohol_status'] == \"Yes\"\n",
    "df.head(2)"
   ]
  },
  {
   "cell_type": "code",
   "execution_count": 38,
   "metadata": {},
   "outputs": [],
   "source": [
    "#Encoding the categorical data\n",
    "#Adding all object type columns to categorical data except 'police_station', 'accident_time', 'month', 'hour' as these have no necessity of encoding.\n",
    "categorical = df.dtypes == 'object'\n",
    "categorical_cols = df.columns[categorical].tolist()\n",
    "categorical_data = [i for i in categorical_cols if i not in ['police_station','accident_time','month','hour','victim_alcohol_status','accused_alcohol_status','severity']]\n",
    "\n",
    "#Importing LabelEncoder to encode the categorical data.\n",
    "from sklearn.preprocessing import LabelEncoder\n",
    "l = LabelEncoder()\n",
    "#Transforming the categoricals into encoded data.\n",
    "df[categorical_data] = df[categorical_data].apply(lambda col: l.fit_transform(col))"
   ]
  },
  {
   "cell_type": "code",
   "execution_count": 39,
   "metadata": {},
   "outputs": [],
   "source": [
    "#Splitting data into response and predictors.\n",
    "Y = df['severity']\n",
    "X = df.drop(['severity','month'],1)"
   ]
  },
  {
   "cell_type": "code",
   "execution_count": 40,
   "metadata": {},
   "outputs": [],
   "source": [
    "import statsmodels.api as st\n",
    "X = st.add_constant(X, prepend = False)"
   ]
  },
  {
   "cell_type": "code",
   "execution_count": 41,
   "metadata": {},
   "outputs": [],
   "source": [
    "#Splitting the response and predictors into train and test data.\n",
    "X_train, X_test, y_train, y_test = train_test_split(X, Y, test_size=0.3, random_state=0)"
   ]
  },
  {
   "cell_type": "code",
   "execution_count": 42,
   "metadata": {},
   "outputs": [
    {
     "name": "stdout",
     "output_type": "stream",
     "text": [
      "<class 'pandas.core.frame.DataFrame'>\n",
      "Int64Index: 1744 entries, 2208 to 1653\n",
      "Data columns (total 6 columns):\n",
      " #   Column            Non-Null Count  Dtype  \n",
      "---  ------            --------------  -----  \n",
      " 0   accident_weekday  1744 non-null   int32  \n",
      " 1   accused_vehicle   1744 non-null   int32  \n",
      " 2   victim_vehicle    1744 non-null   int32  \n",
      " 3   death_count       1744 non-null   int64  \n",
      " 4   injured_count     1744 non-null   int64  \n",
      " 5   const             1744 non-null   float64\n",
      "dtypes: float64(1), int32(3), int64(2)\n",
      "memory usage: 74.9 KB\n"
     ]
    }
   ],
   "source": [
    "X_train.info()"
   ]
  },
  {
   "cell_type": "raw",
   "metadata": {},
   "source": [
    "from sklearn import preprocessing\n",
    "mm_scaler = preprocessing.StandardScaler()\n",
    "X_train_minmax = mm_scaler.fit_transform(X_train)\n",
    "mm_scaler.transform(X_test)"
   ]
  },
  {
   "cell_type": "raw",
   "metadata": {},
   "source": [
    "import statsmodels.tools.tools as sm\n",
    "data_final_vars=df.columns.values.tolist()\n",
    "y=['severity']\n",
    "X=[i for i in data_final_vars if i not in y]\n",
    "from sklearn.feature_selection import RFE\n",
    "from sklearn.linear_model import LogisticRegression\n",
    "logreg = LogisticRegression()\n",
    "rfe = RFE(logreg, 20)\n",
    "rfe = rfe.fit(X_train, y_train.values.ravel())\n",
    "print(rfe.support_)\n",
    "print(rfe.ranking_)"
   ]
  },
  {
   "cell_type": "markdown",
   "metadata": {},
   "source": [
    "### Model Fit"
   ]
  },
  {
   "cell_type": "code",
   "execution_count": 43,
   "metadata": {},
   "outputs": [
    {
     "data": {
      "text/plain": [
       "array(['No Injuries', 'Grievous Injuries', 'Simple Injuries',\n",
       "       'Fatal Injuries'], dtype=object)"
      ]
     },
     "execution_count": 43,
     "metadata": {},
     "output_type": "execute_result"
    }
   ],
   "source": [
    "y_train.unique()"
   ]
  },
  {
   "cell_type": "code",
   "execution_count": 44,
   "metadata": {
    "scrolled": false
   },
   "outputs": [
    {
     "name": "stdout",
     "output_type": "stream",
     "text": [
      "Warning: Maximum number of iterations has been exceeded.\n",
      "         Current function value: 0.275281\n",
      "         Iterations: 35\n",
      "         Function evaluations: 38\n",
      "         Gradient evaluations: 38\n"
     ]
    },
    {
     "name": "stderr",
     "output_type": "stream",
     "text": [
      "c:\\users\\swamy\\appdata\\local\\programs\\python\\python38-32\\lib\\site-packages\\statsmodels\\base\\model.py:567: ConvergenceWarning: Maximum Likelihood optimization failed to converge. Check mle_retvals\n",
      "  warn(\"Maximum Likelihood optimization failed to converge. \"\n"
     ]
    },
    {
     "name": "stdout",
     "output_type": "stream",
     "text": [
      "                         Results: MNLogit\n",
      "===================================================================\n",
      "Model:               MNLogit           Pseudo R-squared:  0.761    \n",
      "Dependent Variable:  severity          AIC:               996.1785 \n",
      "Date:                2020-05-11 10:53  BIC:               1094.5293\n",
      "No. Observations:    1744              Log-Likelihood:    -480.09  \n",
      "Df Model:            15                LL-Null:           -2010.8  \n",
      "Df Residuals:        1726              LLR p-value:       0.0000   \n",
      "Converged:           0.0000            Scale:             1.0000   \n",
      "-------------------------------------------------------------------\n",
      "   severity = 0    Coef.   Std.Err.    t    P>|t|   [0.025   0.975]\n",
      "-------------------------------------------------------------------\n",
      "accident_weekday    0.6859   0.1939  3.5368 0.0004   0.3058  1.0661\n",
      " accused_vehicle   -0.2658   0.1537 -1.7293 0.0838  -0.5671  0.0355\n",
      "  victim_vehicle    0.1070   0.0942  1.1359 0.2560  -0.0776  0.2917\n",
      "     death_count  -12.5791   2.3196 -5.4230 0.0000 -17.1253 -8.0328\n",
      "   injured_count    3.7340   0.9311  4.0103 0.0001   1.9090  5.5589\n",
      "           const   -2.8943   1.0946 -2.6441 0.0082  -5.0397 -0.7488\n",
      "-------------------------------------------------------------------\n",
      "   severity = 1    Coef.   Std.Err.    t    P>|t|   [0.025   0.975]\n",
      "-------------------------------------------------------------------\n",
      "accident_weekday    0.2107   0.2574  0.8185 0.4131  -0.2938  0.7151\n",
      " accused_vehicle   -0.0285   0.2892 -0.0986 0.9215  -0.5954  0.5384\n",
      "  victim_vehicle    0.2422   0.1816  1.3337 0.1823  -0.1137  0.5982\n",
      "     death_count  -12.4388   1.8105 -6.8706 0.0000 -15.9873 -8.8904\n",
      "   injured_count  -10.9438   4.8840 -2.2408 0.0250 -20.5163 -1.3714\n",
      "           const    3.6066   1.1427  3.1561 0.0016   1.3669  5.8463\n",
      "-------------------------------------------------------------------\n",
      "  severity = 2    Coef.   Std.Err.    t    P>|t|   [0.025   0.975] \n",
      "-------------------------------------------------------------------\n",
      "accident_weekday   0.5919   0.1902  3.1123 0.0019   0.2192   0.9647\n",
      " accused_vehicle  -0.2115   0.1434 -1.4748 0.1403  -0.4925   0.0696\n",
      "  victim_vehicle   0.1373   0.0913  1.5033 0.1328  -0.0417   0.3163\n",
      "     death_count -15.8281   2.5801 -6.1347 0.0000 -20.8849 -10.7712\n",
      "   injured_count   3.7613   0.9302  4.0437 0.0001   1.9382   5.5844\n",
      "           const  -0.9797   1.0740 -0.9122 0.3616  -3.0847   1.1252\n",
      "===================================================================\n",
      "\n"
     ]
    }
   ],
   "source": [
    "#Fitting Multinomial Logit model\n",
    "import statsmodels.api as sm\n",
    "logit_model=sm.MNLogit(y_train,X_train.astype('float'))\n",
    "result=logit_model.fit(method='bfgs')\n",
    "print(result.summary2())"
   ]
  },
  {
   "cell_type": "code",
   "execution_count": 45,
   "metadata": {},
   "outputs": [
    {
     "name": "stdout",
     "output_type": "stream",
     "text": [
      "                          MNLogit Regression Results                          \n",
      "==============================================================================\n",
      "Dep. Variable:               severity   No. Observations:                 1744\n",
      "Model:                        MNLogit   Df Residuals:                     1726\n",
      "Method:                           MLE   Df Model:                           15\n",
      "Date:                Mon, 11 May 2020   Pseudo R-squ.:                  0.7612\n",
      "Time:                        10:53:13   Log-Likelihood:                -480.09\n",
      "converged:                      False   LL-Null:                       -2010.8\n",
      "Covariance Type:            nonrobust   LLR p-value:                     0.000\n",
      "============================================================================================\n",
      "severity=Grievous Injuries       coef    std err          z      P>|z|      [0.025      0.975]\n",
      "----------------------------------------------------------------------------------------------\n",
      "accident_weekday               0.6859      0.194      3.537      0.000       0.306       1.066\n",
      "accused_vehicle               -0.2658      0.154     -1.729      0.084      -0.567       0.035\n",
      "victim_vehicle                 0.1070      0.094      1.136      0.256      -0.078       0.292\n",
      "death_count                  -12.5791      2.320     -5.423      0.000     -17.125      -8.033\n",
      "injured_count                  3.7340      0.931      4.010      0.000       1.909       5.559\n",
      "const                         -2.8943      1.095     -2.644      0.008      -5.040      -0.749\n",
      "----------------------------------------------------------------------------------------------\n",
      "severity=No Injuries       coef    std err          z      P>|z|      [0.025      0.975]\n",
      "----------------------------------------------------------------------------------------\n",
      "accident_weekday         0.2107      0.257      0.818      0.413      -0.294       0.715\n",
      "accused_vehicle         -0.0285      0.289     -0.099      0.921      -0.595       0.538\n",
      "victim_vehicle           0.2422      0.182      1.334      0.182      -0.114       0.598\n",
      "death_count            -12.4388      1.810     -6.871      0.000     -15.987      -8.890\n",
      "injured_count          -10.9438      4.884     -2.241      0.025     -20.516      -1.371\n",
      "const                    3.6066      1.143      3.156      0.002       1.367       5.846\n",
      "----------------------------------------------------------------------------------------\n",
      "severity=Simple Injuries       coef    std err          z      P>|z|      [0.025      0.975]\n",
      "--------------------------------------------------------------------------------------------\n",
      "accident_weekday             0.5919      0.190      3.112      0.002       0.219       0.965\n",
      "accused_vehicle             -0.2115      0.143     -1.475      0.140      -0.492       0.070\n",
      "victim_vehicle               0.1373      0.091      1.503      0.133      -0.042       0.316\n",
      "death_count                -15.8281      2.580     -6.135      0.000     -20.885     -10.771\n",
      "injured_count                3.7613      0.930      4.044      0.000       1.938       5.584\n",
      "const                       -0.9797      1.074     -0.912      0.362      -3.085       1.125\n",
      "============================================================================================\n"
     ]
    }
   ],
   "source": [
    "print(result.summary())"
   ]
  },
  {
   "cell_type": "code",
   "execution_count": 20,
   "metadata": {},
   "outputs": [
    {
     "data": {
      "text/html": [
       "<table class=\"simpletable\">\n",
       "<caption>MNLogit Marginal Effects</caption>\n",
       "<tr>\n",
       "  <th>Dep. Variable:</th> <td>severity</td>\n",
       "</tr>\n",
       "<tr>\n",
       "  <th>Method:</th>          <td>dydx</td>  \n",
       "</tr>\n",
       "<tr>\n",
       "  <th>At:</th>             <td>overall</td>\n",
       "</tr>\n",
       "</table>\n",
       "<table class=\"simpletable\">\n",
       "<tr>\n",
       "    <th>severity=Fatal Injuries</th>     <th>dy/dx</th>    <th>std err</th>      <th>z</th>      <th>P>|z|</th>  <th>[0.025</th>    <th>0.975]</th>  \n",
       "</tr>\n",
       "<tr>\n",
       "  <th>accident_weekday</th>           <td>   -0.0044</td> <td>    0.002</td> <td>   -2.478</td> <td> 0.013</td> <td>   -0.008</td> <td>   -0.001</td>\n",
       "</tr>\n",
       "<tr>\n",
       "  <th>accused_vehicle</th>            <td>    0.0015</td> <td>    0.001</td> <td>    1.318</td> <td> 0.188</td> <td>   -0.001</td> <td>    0.004</td>\n",
       "</tr>\n",
       "<tr>\n",
       "  <th>victim_vehicle</th>             <td>   -0.0012</td> <td>    0.001</td> <td>   -1.509</td> <td> 0.131</td> <td>   -0.003</td> <td>    0.000</td>\n",
       "</tr>\n",
       "<tr>\n",
       "  <th>death_count</th>                <td>    0.1187</td> <td>    0.029</td> <td>    4.077</td> <td> 0.000</td> <td>    0.062</td> <td>    0.176</td>\n",
       "</tr>\n",
       "<tr>\n",
       "  <th>injured_count</th>              <td>   -0.0128</td> <td>    0.010</td> <td>   -1.281</td> <td> 0.200</td> <td>   -0.032</td> <td>    0.007</td>\n",
       "</tr>\n",
       "<tr>\n",
       "  <th>severity=Grievous Injuries</th>    <th>dy/dx</th>    <th>std err</th>      <th>z</th>      <th>P>|z|</th>  <th>[0.025</th>    <th>0.975]</th>  \n",
       "</tr>\n",
       "<tr>\n",
       "  <th>accident_weekday</th>           <td>    0.0072</td> <td>    0.003</td> <td>    2.275</td> <td> 0.023</td> <td>    0.001</td> <td>    0.013</td>\n",
       "</tr>\n",
       "<tr>\n",
       "  <th>accused_vehicle</th>            <td>   -0.0040</td> <td>    0.004</td> <td>   -0.946</td> <td> 0.344</td> <td>   -0.012</td> <td>    0.004</td>\n",
       "</tr>\n",
       "<tr>\n",
       "  <th>victim_vehicle</th>             <td>   -0.0019</td> <td>    0.002</td> <td>   -1.062</td> <td> 0.288</td> <td>   -0.005</td> <td>    0.002</td>\n",
       "</tr>\n",
       "<tr>\n",
       "  <th>death_count</th>                <td>    0.1998</td> <td>    0.100</td> <td>    2.006</td> <td> 0.045</td> <td>    0.005</td> <td>    0.395</td>\n",
       "</tr>\n",
       "<tr>\n",
       "  <th>injured_count</th>              <td>    0.0078</td> <td>    0.005</td> <td>    1.432</td> <td> 0.152</td> <td>   -0.003</td> <td>    0.019</td>\n",
       "</tr>\n",
       "<tr>\n",
       "  <th>severity=No Injuries</th>    <th>dy/dx</th>    <th>std err</th>      <th>z</th>      <th>P>|z|</th>  <th>[0.025</th>    <th>0.975]</th>  \n",
       "</tr>\n",
       "<tr>\n",
       "  <th>accident_weekday</th>     <td>   -0.0007</td> <td>    0.001</td> <td>   -0.723</td> <td> 0.469</td> <td>   -0.002</td> <td>    0.001</td>\n",
       "</tr>\n",
       "<tr>\n",
       "  <th>accused_vehicle</th>      <td>    0.0004</td> <td>    0.001</td> <td>    0.411</td> <td> 0.681</td> <td>   -0.002</td> <td>    0.002</td>\n",
       "</tr>\n",
       "<tr>\n",
       "  <th>victim_vehicle</th>       <td>    0.0005</td> <td>    0.001</td> <td>    0.852</td> <td> 0.394</td> <td>   -0.001</td> <td>    0.002</td>\n",
       "</tr>\n",
       "<tr>\n",
       "  <th>death_count</th>          <td>   -0.0079</td> <td>    0.007</td> <td>   -1.118</td> <td> 0.264</td> <td>   -0.022</td> <td>    0.006</td>\n",
       "</tr>\n",
       "<tr>\n",
       "  <th>injured_count</th>        <td>   -0.0469</td> <td>    0.022</td> <td>   -2.124</td> <td> 0.034</td> <td>   -0.090</td> <td>   -0.004</td>\n",
       "</tr>\n",
       "<tr>\n",
       "  <th>severity=Simple Injuries</th>    <th>dy/dx</th>    <th>std err</th>      <th>z</th>      <th>P>|z|</th>  <th>[0.025</th>    <th>0.975]</th>  \n",
       "</tr>\n",
       "<tr>\n",
       "  <th>accident_weekday</th>         <td>   -0.0021</td> <td>    0.004</td> <td>   -0.603</td> <td> 0.547</td> <td>   -0.009</td> <td>    0.005</td>\n",
       "</tr>\n",
       "<tr>\n",
       "  <th>accused_vehicle</th>          <td>    0.0020</td> <td>    0.004</td> <td>    0.472</td> <td> 0.637</td> <td>   -0.006</td> <td>    0.011</td>\n",
       "</tr>\n",
       "<tr>\n",
       "  <th>victim_vehicle</th>           <td>    0.0026</td> <td>    0.002</td> <td>    1.339</td> <td> 0.181</td> <td>   -0.001</td> <td>    0.006</td>\n",
       "</tr>\n",
       "<tr>\n",
       "  <th>death_count</th>              <td>   -0.3106</td> <td>    0.110</td> <td>   -2.825</td> <td> 0.005</td> <td>   -0.526</td> <td>   -0.095</td>\n",
       "</tr>\n",
       "<tr>\n",
       "  <th>injured_count</th>            <td>    0.0519</td> <td>    0.015</td> <td>    3.440</td> <td> 0.001</td> <td>    0.022</td> <td>    0.081</td>\n",
       "</tr>\n",
       "</table>"
      ],
      "text/plain": [
       "<class 'statsmodels.iolib.summary.Summary'>\n",
       "\"\"\"\n",
       "       MNLogit Marginal Effects      \n",
       "=====================================\n",
       "Dep. Variable:               severity\n",
       "Method:                          dydx\n",
       "At:                           overall\n",
       "============================================================================================\n",
       "   severity=Fatal Injuries      dy/dx    std err          z      P>|z|      [0.025      0.975]\n",
       "----------------------------------------------------------------------------------------------\n",
       "accident_weekday              -0.0044      0.002     -2.478      0.013      -0.008      -0.001\n",
       "accused_vehicle                0.0015      0.001      1.318      0.188      -0.001       0.004\n",
       "victim_vehicle                -0.0012      0.001     -1.509      0.131      -0.003       0.000\n",
       "death_count                    0.1187      0.029      4.077      0.000       0.062       0.176\n",
       "injured_count                 -0.0128      0.010     -1.281      0.200      -0.032       0.007\n",
       "----------------------------------------------------------------------------------------------\n",
       "severity=Grievous Injuries      dy/dx    std err          z      P>|z|      [0.025      0.975]\n",
       "----------------------------------------------------------------------------------------------\n",
       "accident_weekday               0.0072      0.003      2.275      0.023       0.001       0.013\n",
       "accused_vehicle               -0.0040      0.004     -0.946      0.344      -0.012       0.004\n",
       "victim_vehicle                -0.0019      0.002     -1.062      0.288      -0.005       0.002\n",
       "death_count                    0.1998      0.100      2.006      0.045       0.005       0.395\n",
       "injured_count                  0.0078      0.005      1.432      0.152      -0.003       0.019\n",
       "----------------------------------------------------------------------------------------------\n",
       "severity=No Injuries      dy/dx    std err          z      P>|z|      [0.025      0.975]\n",
       "----------------------------------------------------------------------------------------\n",
       "accident_weekday        -0.0007      0.001     -0.723      0.469      -0.002       0.001\n",
       "accused_vehicle          0.0004      0.001      0.411      0.681      -0.002       0.002\n",
       "victim_vehicle           0.0005      0.001      0.852      0.394      -0.001       0.002\n",
       "death_count             -0.0079      0.007     -1.118      0.264      -0.022       0.006\n",
       "injured_count           -0.0469      0.022     -2.124      0.034      -0.090      -0.004\n",
       "----------------------------------------------------------------------------------------\n",
       "severity=Simple Injuries      dy/dx    std err          z      P>|z|      [0.025      0.975]\n",
       "--------------------------------------------------------------------------------------------\n",
       "accident_weekday            -0.0021      0.004     -0.603      0.547      -0.009       0.005\n",
       "accused_vehicle              0.0020      0.004      0.472      0.637      -0.006       0.011\n",
       "victim_vehicle               0.0026      0.002      1.339      0.181      -0.001       0.006\n",
       "death_count                 -0.3106      0.110     -2.825      0.005      -0.526      -0.095\n",
       "injured_count                0.0519      0.015      3.440      0.001       0.022       0.081\n",
       "============================================================================================\n",
       "\"\"\""
      ]
     },
     "execution_count": 20,
     "metadata": {},
     "output_type": "execute_result"
    }
   ],
   "source": [
    "res_mar = result.get_margeff()\n",
    "res_mar.summary()"
   ]
  },
  {
   "cell_type": "raw",
   "metadata": {},
   "source": [
    "import numpy as np\n",
    "import statsmodels.api as sm\n",
    "\n",
    "X = y_train.astype('float')\n",
    "w = X_train.astype('float')\n",
    "\n",
    "def logit(x):\n",
    "    return 1. / (1. + np.exp(x))\n",
    "\n",
    "y = logit(np.dot(X,w) + np.random.randn(X.shape[0])*0.0001) # y ~ logit(X.w + Random Noise)\n",
    "model = sm.Logit(y>0.5, X) # Label y as 1 if y > 0.5 else 0\n",
    "res = model.fit()\n",
    "print(res.summary2())"
   ]
  },
  {
   "cell_type": "markdown",
   "metadata": {},
   "source": [
    "-------------------------------------------------------------------------------------------------------------------------------"
   ]
  },
  {
   "cell_type": "markdown",
   "metadata": {},
   "source": [
    "# Multinomial Logistic Regression Model"
   ]
  },
  {
   "cell_type": "markdown",
   "metadata": {},
   "source": [
    "### Importing Packages"
   ]
  },
  {
   "cell_type": "code",
   "execution_count": 10,
   "metadata": {
    "scrolled": false
   },
   "outputs": [],
   "source": [
    "# Required Python Packages\n",
    "import pandas as pd\n",
    "import numpy as np\n",
    "from sklearn import linear_model\n",
    "from sklearn import metrics\n",
    "from sklearn.model_selection import train_test_split\n",
    "\n",
    "#import plotly.graph_objs as go\n",
    "#import chart_studio.plotly as py\n",
    "#from plotly.graph_objs import *"
   ]
  },
  {
   "cell_type": "markdown",
   "metadata": {},
   "source": [
    "### Importing Dataset"
   ]
  },
  {
   "cell_type": "code",
   "execution_count": 11,
   "metadata": {},
   "outputs": [
    {
     "data": {
      "text/html": [
       "<div>\n",
       "<style scoped>\n",
       "    .dataframe tbody tr th:only-of-type {\n",
       "        vertical-align: middle;\n",
       "    }\n",
       "\n",
       "    .dataframe tbody tr th {\n",
       "        vertical-align: top;\n",
       "    }\n",
       "\n",
       "    .dataframe thead th {\n",
       "        text-align: right;\n",
       "    }\n",
       "</style>\n",
       "<table border=\"1\" class=\"dataframe\">\n",
       "  <thead>\n",
       "    <tr style=\"text-align: right;\">\n",
       "      <th></th>\n",
       "      <th>police_station</th>\n",
       "      <th>accident_date</th>\n",
       "      <th>accident_weekday</th>\n",
       "      <th>accident_time</th>\n",
       "      <th>lattitude</th>\n",
       "      <th>longitude</th>\n",
       "      <th>accused_vehicle</th>\n",
       "      <th>victim_vehicle</th>\n",
       "      <th>victim_alcohol_status</th>\n",
       "      <th>accused_alcohol_status</th>\n",
       "      <th>death_count</th>\n",
       "      <th>injured_count</th>\n",
       "      <th>month</th>\n",
       "      <th>hour</th>\n",
       "      <th>severity</th>\n",
       "    </tr>\n",
       "  </thead>\n",
       "  <tbody>\n",
       "    <tr>\n",
       "      <th>0</th>\n",
       "      <td>KPHB Colony</td>\n",
       "      <td>1/1/2019</td>\n",
       "      <td>Tuesday</td>\n",
       "      <td>0:00:00</td>\n",
       "      <td>17.47278</td>\n",
       "      <td>78.38764</td>\n",
       "      <td>bike</td>\n",
       "      <td>object</td>\n",
       "      <td>No</td>\n",
       "      <td>No</td>\n",
       "      <td>1</td>\n",
       "      <td>0</td>\n",
       "      <td>1</td>\n",
       "      <td>0</td>\n",
       "      <td>Fatal Injuries</td>\n",
       "    </tr>\n",
       "    <tr>\n",
       "      <th>1</th>\n",
       "      <td>Pet Basheerabad</td>\n",
       "      <td>2/1/2019</td>\n",
       "      <td>Wednesday</td>\n",
       "      <td>21:15:00</td>\n",
       "      <td>17.54128</td>\n",
       "      <td>78.49104</td>\n",
       "      <td>Unknown</td>\n",
       "      <td>Unknown</td>\n",
       "      <td>No</td>\n",
       "      <td>No</td>\n",
       "      <td>0</td>\n",
       "      <td>1</td>\n",
       "      <td>1</td>\n",
       "      <td>21</td>\n",
       "      <td>Grievous Injuries</td>\n",
       "    </tr>\n",
       "  </tbody>\n",
       "</table>\n",
       "</div>"
      ],
      "text/plain": [
       "    police_station accident_date accident_weekday accident_time  lattitude  \\\n",
       "0      KPHB Colony      1/1/2019          Tuesday       0:00:00   17.47278   \n",
       "1  Pet Basheerabad      2/1/2019        Wednesday      21:15:00   17.54128   \n",
       "\n",
       "   longitude accused_vehicle victim_vehicle victim_alcohol_status  \\\n",
       "0   78.38764            bike         object                    No   \n",
       "1   78.49104         Unknown        Unknown                    No   \n",
       "\n",
       "  accused_alcohol_status  death_count  injured_count  month  hour  \\\n",
       "0                     No            1              0      1     0   \n",
       "1                     No            0              1      1    21   \n",
       "\n",
       "            severity  \n",
       "0     Fatal Injuries  \n",
       "1  Grievous Injuries  "
      ]
     },
     "execution_count": 11,
     "metadata": {},
     "output_type": "execute_result"
    }
   ],
   "source": [
    "#importing the dataset after ETL and EDA.\n",
    "df = pd.read_csv('after_cleaning.csv')\n",
    "df.head(2)"
   ]
  },
  {
   "cell_type": "markdown",
   "metadata": {},
   "source": [
    "### Data Preprocessing"
   ]
  },
  {
   "cell_type": "code",
   "execution_count": 12,
   "metadata": {},
   "outputs": [
    {
     "data": {
      "text/html": [
       "<div>\n",
       "<style scoped>\n",
       "    .dataframe tbody tr th:only-of-type {\n",
       "        vertical-align: middle;\n",
       "    }\n",
       "\n",
       "    .dataframe tbody tr th {\n",
       "        vertical-align: top;\n",
       "    }\n",
       "\n",
       "    .dataframe thead th {\n",
       "        text-align: right;\n",
       "    }\n",
       "</style>\n",
       "<table border=\"1\" class=\"dataframe\">\n",
       "  <thead>\n",
       "    <tr style=\"text-align: right;\">\n",
       "      <th></th>\n",
       "      <th>accident_weekday</th>\n",
       "      <th>accused_vehicle</th>\n",
       "      <th>victim_vehicle</th>\n",
       "      <th>victim_alcohol_status</th>\n",
       "      <th>accused_alcohol_status</th>\n",
       "      <th>death_count</th>\n",
       "      <th>injured_count</th>\n",
       "      <th>month</th>\n",
       "      <th>hour</th>\n",
       "      <th>severity</th>\n",
       "    </tr>\n",
       "  </thead>\n",
       "  <tbody>\n",
       "    <tr>\n",
       "      <th>0</th>\n",
       "      <td>Tuesday</td>\n",
       "      <td>bike</td>\n",
       "      <td>object</td>\n",
       "      <td>False</td>\n",
       "      <td>False</td>\n",
       "      <td>1</td>\n",
       "      <td>0</td>\n",
       "      <td>1</td>\n",
       "      <td>0</td>\n",
       "      <td>Fatal Injuries</td>\n",
       "    </tr>\n",
       "    <tr>\n",
       "      <th>1</th>\n",
       "      <td>Wednesday</td>\n",
       "      <td>Unknown</td>\n",
       "      <td>Unknown</td>\n",
       "      <td>False</td>\n",
       "      <td>False</td>\n",
       "      <td>0</td>\n",
       "      <td>1</td>\n",
       "      <td>1</td>\n",
       "      <td>21</td>\n",
       "      <td>Grievous Injuries</td>\n",
       "    </tr>\n",
       "  </tbody>\n",
       "</table>\n",
       "</div>"
      ],
      "text/plain": [
       "  accident_weekday accused_vehicle victim_vehicle  victim_alcohol_status  \\\n",
       "0          Tuesday            bike         object                  False   \n",
       "1        Wednesday         Unknown        Unknown                  False   \n",
       "\n",
       "   accused_alcohol_status  death_count  injured_count  month  hour  \\\n",
       "0                   False            1              0      1     0   \n",
       "1                   False            0              1      1    21   \n",
       "\n",
       "            severity  \n",
       "0     Fatal Injuries  \n",
       "1  Grievous Injuries  "
      ]
     },
     "execution_count": 12,
     "metadata": {},
     "output_type": "execute_result"
    }
   ],
   "source": [
    "df = df.drop(df[['police_station','accident_date','accident_time','lattitude','longitude']],axis=1)\n",
    "df['victim_alcohol_status'] = df['victim_alcohol_status'] == \"Yes\"\n",
    "df['accused_alcohol_status'] = df['accused_alcohol_status'] == \"Yes\"\n",
    "df.head(2)"
   ]
  },
  {
   "cell_type": "code",
   "execution_count": 13,
   "metadata": {},
   "outputs": [],
   "source": [
    "#Encoding the categorical data\n",
    "#Adding all object type columns to categorical data except 'police_station', 'accident_time', 'month', 'hour' as these have no necessity of encoding.\n",
    "categorical = df.dtypes == 'object'\n",
    "categorical_cols = df.columns[categorical].tolist()\n",
    "categorical_data = [i for i in categorical_cols if i not in ['police_station','accident_time','month','hour','victim_alcohol_status','accused_alcohol_status']]\n",
    "\n",
    "#Importing LabelEncoder to encode the categorical data.\n",
    "from sklearn.preprocessing import LabelEncoder\n",
    "l = LabelEncoder()\n",
    "#Transforming the categoricals into encoded data.\n",
    "df[categorical_data] = df[categorical_data].apply(lambda col: l.fit_transform(col))"
   ]
  },
  {
   "cell_type": "code",
   "execution_count": 14,
   "metadata": {},
   "outputs": [],
   "source": [
    "Y = df['severity']\n",
    "X = df.drop(['severity'],1)\n",
    "\n",
    "X_train, X_test, y_train, y_test = train_test_split(X, Y, test_size=0.3, random_state=0)"
   ]
  },
  {
   "cell_type": "markdown",
   "metadata": {},
   "source": [
    "### Fitting Model"
   ]
  },
  {
   "cell_type": "code",
   "execution_count": 15,
   "metadata": {},
   "outputs": [
    {
     "name": "stdout",
     "output_type": "stream",
     "text": [
      "Multinomial Logistic regression Train Accuracy =  0.9157110091743119\n",
      "Multinomial Logistic regression Test Accuracy =  0.8997326203208557\n",
      "[[165   0   2   1]\n",
      " [  0   0   0  71]\n",
      " [  0   0 107   0]\n",
      " [  0   0   1 401]]\n",
      "accuracy_score =  0.8997326203208557\n"
     ]
    }
   ],
   "source": [
    "#Fitting logistic regression from Linear_model using multinomial as multi-class and newwton-cg as Solver.\n",
    "mul_lr = linear_model.LogisticRegression(multi_class='multinomial', solver='newton-cg').fit(X_train, y_train)\n",
    "\n",
    "#Let us understand the accuracy of Train and Test data Predictions.\n",
    "print(\"Multinomial Logistic regression Train Accuracy = \", metrics.accuracy_score(y_train, mul_lr.predict(X_train)))\n",
    "print(\"Multinomial Logistic regression Test Accuracy = \", metrics.accuracy_score(y_test, mul_lr.predict(X_test)))\n",
    "\n",
    "#Let us understand about the correlation and accuracy\n",
    "from sklearn.metrics import confusion_matrix \n",
    "from sklearn.metrics import accuracy_score\n",
    "y_pred = mul_lr.predict(X_test)\n",
    "cm = confusion_matrix(y_test, y_pred)\n",
    "print(cm)\n",
    "print('accuracy_score = ',accuracy_score(y_test, y_pred))"
   ]
  },
  {
   "cell_type": "code",
   "execution_count": 16,
   "metadata": {},
   "outputs": [
    {
     "data": {
      "text/plain": [
       "array([[9.22701576e-03, 1.30741614e-01, 5.01714612e-03, 8.55014224e-01],\n",
       "       [9.88702955e-01, 3.75447655e-03, 1.45976333e-05, 7.52797043e-03],\n",
       "       [1.21675799e-02, 1.28716848e-01, 6.16192839e-03, 8.52953644e-01],\n",
       "       ...,\n",
       "       [1.18020118e-02, 1.03101277e-01, 7.75690422e-03, 8.77339807e-01],\n",
       "       [4.61316028e-03, 7.05655818e-02, 1.01961747e-05, 9.24811062e-01],\n",
       "       [1.21307378e-02, 1.36200892e-01, 4.75908487e-03, 8.46909285e-01]])"
      ]
     },
     "execution_count": 16,
     "metadata": {},
     "output_type": "execute_result"
    }
   ],
   "source": [
    "#Finding the Prediction Probabilities\n",
    "mul_lr.predict_proba(X_test)"
   ]
  }
 ],
 "metadata": {
  "kernelspec": {
   "display_name": "Python 3",
   "language": "python",
   "name": "python3"
  },
  "language_info": {
   "codemirror_mode": {
    "name": "ipython",
    "version": 3
   },
   "file_extension": ".py",
   "mimetype": "text/x-python",
   "name": "python",
   "nbconvert_exporter": "python",
   "pygments_lexer": "ipython3",
   "version": "3.8.2"
  }
 },
 "nbformat": 4,
 "nbformat_minor": 4
}
